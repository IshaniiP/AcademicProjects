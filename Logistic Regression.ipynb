{
 "cells": [
  {
   "cell_type": "code",
   "execution_count": 25,
   "metadata": {},
   "outputs": [],
   "source": [
    "import numpy as np\n",
    "import pandas as pd\n",
    "import scipy \n",
    "import seaborn as sns\n",
    "import matplotlib.pyplot as plt\n",
    "import sklearn\n",
    "from sklearn.preprocessing import scale\n",
    "import statsmodels.api as sm\n",
    "from sklearn.model_selection import train_test_split\n",
    "from sklearn import metrics\n",
    "from sklearn import preprocessing"
   ]
  },
  {
   "cell_type": "code",
   "execution_count": 2,
   "metadata": {},
   "outputs": [
    {
     "data": {
      "text/html": [
       "<div>\n",
       "<style scoped>\n",
       "    .dataframe tbody tr th:only-of-type {\n",
       "        vertical-align: middle;\n",
       "    }\n",
       "\n",
       "    .dataframe tbody tr th {\n",
       "        vertical-align: top;\n",
       "    }\n",
       "\n",
       "    .dataframe thead th {\n",
       "        text-align: right;\n",
       "    }\n",
       "</style>\n",
       "<table border=\"1\" class=\"dataframe\">\n",
       "  <thead>\n",
       "    <tr style=\"text-align: right;\">\n",
       "      <th></th>\n",
       "      <th>Age</th>\n",
       "      <th>Weight</th>\n",
       "      <th>Height</th>\n",
       "      <th>PCOS</th>\n",
       "      <th>Junk_Food</th>\n",
       "      <th>Weight_Gain</th>\n",
       "      <th>Regular_Exercise</th>\n",
       "      <th>Fam_Hist_of_Inf</th>\n",
       "      <th>Infertility</th>\n",
       "    </tr>\n",
       "  </thead>\n",
       "  <tbody>\n",
       "    <tr>\n",
       "      <th>0</th>\n",
       "      <td>19</td>\n",
       "      <td>67</td>\n",
       "      <td>161.0</td>\n",
       "      <td>0</td>\n",
       "      <td>1</td>\n",
       "      <td>1</td>\n",
       "      <td>0</td>\n",
       "      <td>1</td>\n",
       "      <td>1</td>\n",
       "    </tr>\n",
       "    <tr>\n",
       "      <th>1</th>\n",
       "      <td>20</td>\n",
       "      <td>65</td>\n",
       "      <td>153.0</td>\n",
       "      <td>1</td>\n",
       "      <td>1</td>\n",
       "      <td>1</td>\n",
       "      <td>0</td>\n",
       "      <td>0</td>\n",
       "      <td>0</td>\n",
       "    </tr>\n",
       "    <tr>\n",
       "      <th>2</th>\n",
       "      <td>19</td>\n",
       "      <td>49</td>\n",
       "      <td>163.0</td>\n",
       "      <td>0</td>\n",
       "      <td>1</td>\n",
       "      <td>1</td>\n",
       "      <td>0</td>\n",
       "      <td>1</td>\n",
       "      <td>1</td>\n",
       "    </tr>\n",
       "    <tr>\n",
       "      <th>3</th>\n",
       "      <td>25</td>\n",
       "      <td>68</td>\n",
       "      <td>163.0</td>\n",
       "      <td>0</td>\n",
       "      <td>1</td>\n",
       "      <td>1</td>\n",
       "      <td>0</td>\n",
       "      <td>0</td>\n",
       "      <td>0</td>\n",
       "    </tr>\n",
       "    <tr>\n",
       "      <th>4</th>\n",
       "      <td>40</td>\n",
       "      <td>68</td>\n",
       "      <td>155.0</td>\n",
       "      <td>0</td>\n",
       "      <td>1</td>\n",
       "      <td>1</td>\n",
       "      <td>1</td>\n",
       "      <td>0</td>\n",
       "      <td>1</td>\n",
       "    </tr>\n",
       "  </tbody>\n",
       "</table>\n",
       "</div>"
      ],
      "text/plain": [
       "   Age  Weight  Height  PCOS  Junk_Food  Weight_Gain  Regular_Exercise   \n",
       "0   19      67   161.0     0          1            1                 0  \\\n",
       "1   20      65   153.0     1          1            1                 0   \n",
       "2   19      49   163.0     0          1            1                 0   \n",
       "3   25      68   163.0     0          1            1                 0   \n",
       "4   40      68   155.0     0          1            1                 1   \n",
       "\n",
       "   Fam_Hist_of_Inf  Infertility  \n",
       "0                1            1  \n",
       "1                0            0  \n",
       "2                1            1  \n",
       "3                0            0  \n",
       "4                0            1  "
      ]
     },
     "execution_count": 2,
     "metadata": {},
     "output_type": "execute_result"
    }
   ],
   "source": [
    "#Reading csv\n",
    "logit2 = pd.DataFrame(pd.read_csv(r'C:\\Users\\ishan\\OneDrive\\Desktop\\SSDI Project\\Infertility.csv'))\n",
    "logit2.head()"
   ]
  },
  {
   "cell_type": "code",
   "execution_count": null,
   "metadata": {},
   "outputs": [],
   "source": []
  },
  {
   "cell_type": "code",
   "execution_count": 3,
   "metadata": {},
   "outputs": [
    {
     "name": "stdout",
     "output_type": "stream",
     "text": [
      "<class 'pandas.core.frame.DataFrame'>\n",
      "RangeIndex: 216 entries, 0 to 215\n",
      "Data columns (total 9 columns):\n",
      " #   Column            Non-Null Count  Dtype  \n",
      "---  ------            --------------  -----  \n",
      " 0   Age               216 non-null    int64  \n",
      " 1   Weight            216 non-null    int64  \n",
      " 2   Height            216 non-null    float64\n",
      " 3   PCOS              216 non-null    int64  \n",
      " 4   Junk_Food         216 non-null    int64  \n",
      " 5   Weight_Gain       216 non-null    int64  \n",
      " 6   Regular_Exercise  216 non-null    int64  \n",
      " 7   Fam_Hist_of_Inf   216 non-null    int64  \n",
      " 8   Infertility       216 non-null    int64  \n",
      "dtypes: float64(1), int64(8)\n",
      "memory usage: 15.3 KB\n"
     ]
    }
   ],
   "source": [
    "logit2.info()"
   ]
  },
  {
   "cell_type": "code",
   "execution_count": 4,
   "metadata": {},
   "outputs": [],
   "source": [
    "logit2.dropna(inplace = True)"
   ]
  },
  {
   "cell_type": "code",
   "execution_count": 6,
   "metadata": {},
   "outputs": [
    {
     "data": {
      "text/plain": [
       "<Axes: >"
      ]
     },
     "execution_count": 6,
     "metadata": {},
     "output_type": "execute_result"
    },
    {
     "data": {
      "image/png": "[encoded data removed]",
      "text/plain": [
       "<Figure size 640x480 with 1 Axes>"
      ]
     },
     "metadata": {},
     "output_type": "display_data"
    }
   ],
   "source": [
    "#Handle outliers\n",
    "q1 = logit2['Age'].quantile(0.25)\n",
    "q3 = logit2['Age'].quantile(0.75)\n",
    "iqr = q3 - q1\n",
    "upper_bound = q3 + 1.5*iqr\n",
    "logit2 = logit2[logit2['Age'] <= upper_bound]\n",
    "sns.boxplot(logit2['Age'])"
   ]
  },
  {
   "cell_type": "code",
   "execution_count": 8,
   "metadata": {},
   "outputs": [
    {
     "name": "stdout",
     "output_type": "stream",
     "text": [
      "     const  Age  Weight  Height  PCOS  Junk_Food  Weight_Gain   \n",
      "0      1.0   19      67  161.00     0          1            1  \\\n",
      "1      1.0   20      65  153.00     1          1            1   \n",
      "2      1.0   19      49  163.00     0          1            1   \n",
      "3      1.0   25      68  163.00     0          1            1   \n",
      "4      1.0   40      68  155.00     0          1            1   \n",
      "..     ...  ...     ...     ...   ...        ...          ...   \n",
      "211    1.0   58      71  154.00     0          0            0   \n",
      "212    1.0   52      54  149.86     0          0            0   \n",
      "213    1.0   55      85  158.00     0          1            1   \n",
      "214    1.0   55      84  152.40     0          0            1   \n",
      "215    1.0   52      69  160.00     0          0            0   \n",
      "\n",
      "     Regular_Exercise  Fam_Hist_of_Inf  Infertility  \n",
      "0                   0                1            1  \n",
      "1                   0                0            0  \n",
      "2                   0                1            1  \n",
      "3                   0                0            0  \n",
      "4                   1                0            1  \n",
      "..                ...              ...          ...  \n",
      "211                 1                1            1  \n",
      "212                 0                0            0  \n",
      "213                 1                0            0  \n",
      "214                 1                1            0  \n",
      "215                 1                1            1  \n",
      "\n",
      "[216 rows x 10 columns]\n"
     ]
    }
   ],
   "source": [
    "from statsmodels.stats.outliers_influence import variance_inflation_factor\n",
    "from statsmodels.tools.tools import add_constant\n",
    "\n",
    "X = add_constant(logit2)\n",
    "print(X)"
   ]
  },
  {
   "cell_type": "code",
   "execution_count": 9,
   "metadata": {},
   "outputs": [
    {
     "data": {
      "text/html": [
       "<div>\n",
       "<style scoped>\n",
       "    .dataframe tbody tr th:only-of-type {\n",
       "        vertical-align: middle;\n",
       "    }\n",
       "\n",
       "    .dataframe tbody tr th {\n",
       "        vertical-align: top;\n",
       "    }\n",
       "\n",
       "    .dataframe thead th {\n",
       "        text-align: right;\n",
       "    }\n",
       "</style>\n",
       "<table border=\"1\" class=\"dataframe\">\n",
       "  <thead>\n",
       "    <tr style=\"text-align: right;\">\n",
       "      <th></th>\n",
       "      <th>const</th>\n",
       "      <th>Age</th>\n",
       "      <th>Weight</th>\n",
       "      <th>Height</th>\n",
       "    </tr>\n",
       "  </thead>\n",
       "  <tbody>\n",
       "    <tr>\n",
       "      <th>0</th>\n",
       "      <td>1.0</td>\n",
       "      <td>19</td>\n",
       "      <td>67</td>\n",
       "      <td>161.00</td>\n",
       "    </tr>\n",
       "    <tr>\n",
       "      <th>1</th>\n",
       "      <td>1.0</td>\n",
       "      <td>20</td>\n",
       "      <td>65</td>\n",
       "      <td>153.00</td>\n",
       "    </tr>\n",
       "    <tr>\n",
       "      <th>2</th>\n",
       "      <td>1.0</td>\n",
       "      <td>19</td>\n",
       "      <td>49</td>\n",
       "      <td>163.00</td>\n",
       "    </tr>\n",
       "    <tr>\n",
       "      <th>3</th>\n",
       "      <td>1.0</td>\n",
       "      <td>25</td>\n",
       "      <td>68</td>\n",
       "      <td>163.00</td>\n",
       "    </tr>\n",
       "    <tr>\n",
       "      <th>4</th>\n",
       "      <td>1.0</td>\n",
       "      <td>40</td>\n",
       "      <td>68</td>\n",
       "      <td>155.00</td>\n",
       "    </tr>\n",
       "    <tr>\n",
       "      <th>...</th>\n",
       "      <td>...</td>\n",
       "      <td>...</td>\n",
       "      <td>...</td>\n",
       "      <td>...</td>\n",
       "    </tr>\n",
       "    <tr>\n",
       "      <th>211</th>\n",
       "      <td>1.0</td>\n",
       "      <td>58</td>\n",
       "      <td>71</td>\n",
       "      <td>154.00</td>\n",
       "    </tr>\n",
       "    <tr>\n",
       "      <th>212</th>\n",
       "      <td>1.0</td>\n",
       "      <td>52</td>\n",
       "      <td>54</td>\n",
       "      <td>149.86</td>\n",
       "    </tr>\n",
       "    <tr>\n",
       "      <th>213</th>\n",
       "      <td>1.0</td>\n",
       "      <td>55</td>\n",
       "      <td>85</td>\n",
       "      <td>158.00</td>\n",
       "    </tr>\n",
       "    <tr>\n",
       "      <th>214</th>\n",
       "      <td>1.0</td>\n",
       "      <td>55</td>\n",
       "      <td>84</td>\n",
       "      <td>152.40</td>\n",
       "    </tr>\n",
       "    <tr>\n",
       "      <th>215</th>\n",
       "      <td>1.0</td>\n",
       "      <td>52</td>\n",
       "      <td>69</td>\n",
       "      <td>160.00</td>\n",
       "    </tr>\n",
       "  </tbody>\n",
       "</table>\n",
       "<p>216 rows × 4 columns</p>\n",
       "</div>"
      ],
      "text/plain": [
       "     const  Age  Weight  Height\n",
       "0      1.0   19      67  161.00\n",
       "1      1.0   20      65  153.00\n",
       "2      1.0   19      49  163.00\n",
       "3      1.0   25      68  163.00\n",
       "4      1.0   40      68  155.00\n",
       "..     ...  ...     ...     ...\n",
       "211    1.0   58      71  154.00\n",
       "212    1.0   52      54  149.86\n",
       "213    1.0   55      85  158.00\n",
       "214    1.0   55      84  152.40\n",
       "215    1.0   52      69  160.00\n",
       "\n",
       "[216 rows x 4 columns]"
      ]
     },
     "execution_count": 9,
     "metadata": {},
     "output_type": "execute_result"
    }
   ],
   "source": [
    "#drop all factor variables which are shown as object in the .info() also drop the y of the given set\n",
    "X = X.drop(['Junk_Food', 'Weight_Gain', 'Regular_Exercise', 'PCOS', 'Fam_Hist_of_Inf', 'Infertility'], axis=1)\n",
    "X"
   ]
  },
  {
   "cell_type": "code",
   "execution_count": 10,
   "metadata": {},
   "outputs": [
    {
     "name": "stdout",
     "output_type": "stream",
     "text": [
      "  feature         VIF\n",
      "0   const  219.070646\n",
      "1     Age    1.258557\n",
      "2  Weight    1.229354\n",
      "3  Height    1.156974\n"
     ]
    }
   ],
   "source": [
    "vif_df = pd.DataFrame()\n",
    "vif_df['feature'] = X.columns\n",
    "\n",
    "vif_df['VIF'] = [variance_inflation_factor(X.values,i) for i in range(len(X.columns))]\n",
    "print(vif_df) "
   ]
  },
  {
   "cell_type": "code",
   "execution_count": 11,
   "metadata": {},
   "outputs": [],
   "source": [
    "#scale all quantitative values, that is float64 and int\n",
    "logit2['Age'] = scale(logit2.Age, with_mean=True, with_std=True) \n",
    "logit2['Weight'] = scale(logit2.Weight, with_mean=True, with_std=True)\n",
    "logit2['Height'] = scale(logit2.Height, with_mean=True, with_std=True) "
   ]
  },
  {
   "cell_type": "code",
   "execution_count": 12,
   "metadata": {},
   "outputs": [
    {
     "data": {
      "text/plain": [
       "(array([[  0.,   0.,   0.,   0.,   0.,   0.,   4., 153.,  58.,   1.],\n",
       "        [  0.,   0.,   0.,   0.,   0.,   0.,  22., 146.,  44.,   4.],\n",
       "        [  1.,   0.,   0.,   0.,   0.,   0.,   1., 194.,  20.,   0.]]),\n",
       " array([-12.92035001, -11.23252018,  -9.54469035,  -7.85686051,\n",
       "         -6.16903068,  -4.48120084,  -2.79337101,  -1.10554117,\n",
       "          0.58228866,   2.2701185 ,   3.95794833]),\n",
       " <a list of 3 BarContainer objects>)"
      ]
     },
     "execution_count": 12,
     "metadata": {},
     "output_type": "execute_result"
    },
    {
     "data": {
      "image/png": "[encoded data removed]",
      "text/plain": [
       "<Figure size 640x480 with 1 Axes>"
      ]
     },
     "metadata": {},
     "output_type": "display_data"
    }
   ],
   "source": [
    "plt.hist(logit2[['Age', 'Weight', 'Height']])"
   ]
  },
  {
   "cell_type": "code",
   "execution_count": 14,
   "metadata": {},
   "outputs": [],
   "source": [
    "#slicing the dataframe\n",
    "x = logit2.drop('Infertility', axis = 1)\n",
    "y = logit2['Infertility']"
   ]
  },
  {
   "cell_type": "code",
   "execution_count": 20,
   "metadata": {},
   "outputs": [],
   "source": [
    "from sklearn.model_selection import train_test_split\n",
    "X_train, X_test, Y_train, Y_test = train_test_split(x, y, test_size = 0.5, random_state = 2)"
   ]
  },
  {
   "cell_type": "code",
   "execution_count": 21,
   "metadata": {},
   "outputs": [
    {
     "name": "stdout",
     "output_type": "stream",
     "text": [
      "Optimization terminated successfully.\n",
      "         Current function value: 0.673121\n",
      "         Iterations 7\n",
      "                           Logit Regression Results                           \n",
      "==============================================================================\n",
      "Dep. Variable:            Infertility   No. Observations:                  108\n",
      "Model:                          Logit   Df Residuals:                      100\n",
      "Method:                           MLE   Df Model:                            7\n",
      "Date:                Thu, 13 Apr 2023   Pseudo R-squ.:                 0.02672\n",
      "Time:                        09:14:46   Log-Likelihood:                -72.697\n",
      "converged:                       True   LL-Null:                       -74.693\n",
      "Covariance Type:            nonrobust   LLR p-value:                    0.7807\n",
      "====================================================================================\n",
      "                       coef    std err          z      P>|z|      [0.025      0.975]\n",
      "------------------------------------------------------------------------------------\n",
      "Age                  0.3233      0.258      1.253      0.210      -0.182       0.829\n",
      "Weight              -0.2438      0.244     -1.001      0.317      -0.721       0.234\n",
      "Height               0.5657      0.467      1.210      0.226      -0.351       1.482\n",
      "PCOS                -0.1705      0.461     -0.370      0.711      -1.074       0.733\n",
      "Junk_Food            0.0785      0.428      0.184      0.854      -0.760       0.917\n",
      "Weight_Gain         -0.0126      0.403     -0.031      0.975      -0.802       0.777\n",
      "Regular_Exercise    -0.1195      0.347     -0.344      0.731      -0.800       0.561\n",
      "Fam_Hist_of_Inf      0.0056      0.363      0.015      0.988      -0.706       0.718\n",
      "====================================================================================\n"
     ]
    }
   ],
   "source": [
    "import statsmodels.api as sm\n",
    "lm1 = sm.Logit(Y_train, X_train).fit()\n",
    "print(lm1.summary())"
   ]
  },
  {
   "cell_type": "code",
   "execution_count": 22,
   "metadata": {},
   "outputs": [],
   "source": [
    "y_pred = lm1.predict(X_test)\n",
    "prediction = list(map(round, y_pred))"
   ]
  },
  {
   "cell_type": "code",
   "execution_count": 23,
   "metadata": {},
   "outputs": [
    {
     "name": "stdout",
     "output_type": "stream",
     "text": [
      "Actual values [0, 1, 1, 1, 0, 0, 0, 0, 1, 0, 0, 0, 0, 1, 0, 1, 0, 0, 0, 0, 0, 1, 1, 0, 1, 0, 1, 1, 0, 0, 0, 0, 1, 0, 0, 1, 1, 1, 1, 1, 0, 0, 1, 1, 1, 0, 0, 0, 0, 0, 1, 0, 1, 0, 1, 0, 1, 1, 1, 0, 0, 1, 0, 0, 0, 1, 0, 0, 1, 1, 0, 1, 1, 1, 0, 0, 0, 1, 0, 0, 0, 1, 1, 0, 1, 1, 1, 0, 0, 0, 0, 1, 0, 0, 0, 0, 1, 1, 1, 0, 0, 1, 0, 1, 0, 1, 0, 0]\n",
      "Predictions : [0, 1, 1, 1, 0, 0, 0, 1, 0, 0, 0, 0, 1, 0, 0, 0, 1, 0, 0, 1, 0, 0, 0, 0, 0, 0, 0, 0, 0, 1, 0, 0, 1, 0, 1, 1, 0, 0, 0, 0, 1, 0, 1, 1, 1, 0, 0, 0, 1, 0, 1, 0, 1, 1, 0, 1, 1, 0, 1, 1, 1, 0, 0, 0, 0, 1, 0, 0, 0, 0, 0, 1, 1, 0, 1, 0, 0, 1, 0, 1, 0, 0, 1, 0, 1, 0, 0, 0, 0, 0, 1, 1, 0, 0, 0, 0, 0, 1, 1, 1, 1, 1, 0, 1, 0, 1, 1, 0]\n"
     ]
    }
   ],
   "source": [
    "print('Actual values', list(Y_test.values))\n",
    "print('Predictions :', prediction)"
   ]
  },
  {
   "cell_type": "code",
   "execution_count": 24,
   "metadata": {},
   "outputs": [
    {
     "name": "stdout",
     "output_type": "stream",
     "text": [
      "Confusion Matrix : \n",
      " [[44 18]\n",
      " [22 24]]\n",
      "Test accuracy =  0.6296296296296297\n"
     ]
    }
   ],
   "source": [
    "from sklearn.metrics import confusion_matrix, accuracy_score\n",
    "  \n",
    "# confusion matrix\n",
    "cm = confusion_matrix(Y_test, prediction) \n",
    "print (\"Confusion Matrix : \\n\", cm) \n",
    "  \n",
    "# accuracy score of the model\n",
    "print('Test accuracy = ', accuracy_score(Y_test, prediction))"
   ]
  }
 ],
 "metadata": {
  "kernelspec": {
   "display_name": "Python 3",
   "language": "python",
   "name": "python3"
  },
  "language_info": {
   "codemirror_mode": {
    "name": "ipython",
    "version": 3
   },
   "file_extension": ".py",
   "mimetype": "text/x-python",
   "name": "python",
   "nbconvert_exporter": "python",
   "pygments_lexer": "ipython3",
   "version": "3.11.3"
  },
  "orig_nbformat": 4
 },
 "nbformat": 4,
 "nbformat_minor": 2
}
